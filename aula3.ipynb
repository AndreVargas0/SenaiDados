{
 "cells": [
  {
   "cell_type": "markdown",
   "metadata": {},
   "source": [
    "# Revisão Python \n"
   ]
  },
  {
   "cell_type": "markdown",
   "metadata": {},
   "source": [
    "Lista = ()"
   ]
  },
  {
   "cell_type": "code",
   "execution_count": 1,
   "metadata": {},
   "outputs": [
    {
     "data": {
      "text/plain": [
       "list"
      ]
     },
     "execution_count": 1,
     "metadata": {},
     "output_type": "execute_result"
    }
   ],
   "source": [
    "tipos_imoveis = ['comercial','residencial','fazenda']\n",
    "\n",
    "type(tipos_imoveis)"
   ]
  },
  {
   "cell_type": "markdown",
   "metadata": {},
   "source": [
    "### tuple = ()\n",
    "A lista muda, mas a tupla não. = ()"
   ]
  },
  {
   "cell_type": "code",
   "execution_count": 2,
   "metadata": {},
   "outputs": [
    {
     "data": {
      "text/plain": [
       "tuple"
      ]
     },
     "execution_count": 2,
     "metadata": {},
     "output_type": "execute_result"
    }
   ],
   "source": [
    "tipos_imoveis = ('comercial','residencial','fazenda')\n",
    "\n",
    "type(tipos_imoveis)"
   ]
  },
  {
   "cell_type": "markdown",
   "metadata": {},
   "source": [
    "#### Conjuntos = {}\n",
    "Eliminas as repetições "
   ]
  },
  {
   "cell_type": "code",
   "execution_count": 10,
   "metadata": {},
   "outputs": [
    {
     "name": "stdout",
     "output_type": "stream",
     "text": [
      "tipos de imoveis,<class 'set'>\n"
     ]
    }
   ],
   "source": [
    "tipos_imoveis = {'comercial','residencial','fazenda','residencial'}\n",
    "\n",
    "type(tipos_imoveis)\n",
    "\n",
    "print(f'tipos de imoveis,{type(tipos_imoveis)}')"
   ]
  },
  {
   "cell_type": "markdown",
   "metadata": {},
   "source": [
    "- Crie uma lista de vitória do seu time\n",
    "\n",
    "- Crie uma tupla de fastfood\n",
    "\n",
    "- Crie um conjunto de itens de compra do supermercado"
   ]
  },
  {
   "cell_type": "code",
   "execution_count": null,
   "metadata": {},
   "outputs": [],
   "source": [
    "vitorias_loud = [\"VCT 2023: Americas League\",\"VALORANT Champions 2022\",\"VCT 2022: Brazil Stage 2 Challengers\",\"VCT 2022 Brazil Stage 1 Challengers\"]\n",
    "print(f'Vitorias da loud, {type(vitorias_loud)}')\n",
    "\n",
    "lanches = (\"Big Mac\",\"MChicken\",\"MChedar\",\"MChedar\")\n",
    "print(f'Lista de sanduiches, {type(lanches)}')\n",
    "\n",
    "compras = {\"Arroz\",\"Feijão\",\"Carne\",\"Macarrão\"}\n",
    "print(f'Lista de compras, {type(compras)}')\n"
   ]
  },
  {
   "cell_type": "markdown",
   "metadata": {},
   "source": [
    "# Dicionário"
   ]
  },
  {
   "cell_type": "code",
   "execution_count": 11,
   "metadata": {},
   "outputs": [
    {
     "name": "stdout",
     "output_type": "stream",
     "text": [
      "3\n",
      "Taguatinga: 3\n",
      "Braszlândia: 5\n",
      "Ceilândia: 2\n",
      "Candangolandia: 4\n"
     ]
    }
   ],
   "source": [
    "apartamentos = {\n",
    "\"Taguatinga\": 3,\n",
    "\"Braszlândia\": 5,\n",
    "\"Ceilândia\": 2\n",
    "}\n",
    "\n",
    "# Acessando valores no dicionário\n",
    "print(apartamentos[\"Taguatinga\"])\n",
    "\n",
    "#Adicionando ao dicionário\n",
    "apartamentos[\"Candangolandia\"] = 4\n",
    "\n",
    "# Iterando sobre as chaves e valores\n",
    "for apartamentos, quantidade in apartamentos.items():\n",
    "    print(f\"{apartamentos}: {quantidade}\")\n",
    "\n"
   ]
  },
  {
   "cell_type": "markdown",
   "metadata": {},
   "source": [
    "### quinta-feira\n",
    "\n",
    "Pesquisa oritentação a objeto\n",
    "\n",
    "- Slide: 1° Paradigma, 2° \n",
    "- "
   ]
  },
  {
   "cell_type": "markdown",
   "metadata": {},
   "source": [
    "### sexta-feira\n",
    "\n",
    "Pesquisa estatística"
   ]
  },
  {
   "cell_type": "markdown",
   "metadata": {},
   "source": []
  }
 ],
 "metadata": {
  "kernelspec": {
   "display_name": ".venv",
   "language": "python",
   "name": "python3"
  },
  "language_info": {
   "codemirror_mode": {
    "name": "ipython",
    "version": 3
   },
   "file_extension": ".py",
   "mimetype": "text/x-python",
   "name": "python",
   "nbconvert_exporter": "python",
   "pygments_lexer": "ipython3",
   "version": "3.12.4"
  }
 },
 "nbformat": 4,
 "nbformat_minor": 2
}
